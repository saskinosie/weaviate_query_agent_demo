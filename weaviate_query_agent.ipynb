{
 "cells": [
  {
   "cell_type": "code",
   "execution_count": null,
   "id": "ace40ca4",
   "metadata": {},
   "outputs": [],
   "source": [
    "# Install required packages in Google Colab\n",
    "# !pip install -qq weaviate-client python-dotenv weaviate-agents datasets"
   ]
  },
  {
   "cell_type": "markdown",
   "id": "2kxrbp2vmfe",
   "metadata": {},
   "source": [
    "# Weaviate Query Agent\n",
    "\n",
    "[![Open In Colab](https://colab.research.google.com/assets/colab-badge.svg)](https://colab.research.google.com/github/saskinosie/weaviate_query_agent_demo/blob/main/weaviate_query_agent.ipynb)\n",
    "\n",
    "Here, we'll walk you through a comprehensive example showcasing the **Weaviate Query Agent** functionality.  \n",
    "The Query Agent is an intelligent layer that sits on top of your Weaviate vector database, using generative AI to optimize natural language queries and automatically determine the best search strategy.\n",
    "\n",
    "### How the Query Agent Works\n",
    "\n",
    "The Query Agent intelligently handles complex queries by:\n",
    "- **Query Optimization**: Uses generative AI to transform natural language into optimized vector database queries\n",
    "- **Collection Selection**: Automatically determines which collection(s) to search based on your question\n",
    "- **Smart Filtering**: Decides when filtering is needed to narrow down results\n",
    "- **Aggregation Logic**: Determines if aggregation operations should be performed (counts, grouping, etc.)\n",
    "- **Execution**: Runs the optimized queries against your Weaviate instance\n",
    "\n",
    "### Dataset Overview\n",
    "\n",
    "This notebook demonstrates the Query Agent using three diverse collections:\n",
    "- **Books**: 10,000 books with titles, authors, descriptions, and genres\n",
    "- **Brands**: 104 clothing brands with descriptions, ratings, and company information  \n",
    "- **Ecommerce**: 448 fashion items with prices, categories, reviews, and brand associations\n",
    "\n",
    "All datasets come pre-vectorized with **Snowflake Arctic Embed v2.0** embeddings via Weaviate's embedding service.\n",
    "\n",
    "### Further Reading\n",
    "\n",
    "- Check out the datasets on [HuggingFace](https://huggingface.co/datasets/weaviate/agents) \n",
    "- Learn more about Query Agents in the [official documentation](https://docs.weaviate.io/agents/query)\n",
    "- Explore the technical implementation in our [Query Agent tutorial](https://docs.weaviate.io/agents/query/tutorial-ecommerce)\n",
    "- Understand vector databases in the [Weaviate developer docs](https://weaviate.io/developers/weaviate)\n",
    "\n",
    "If running locally, to ensure smooth execution and prevent potential conflicts with your global Python environment, we recommend following the instructions in the README running the code in a virtual environment."
   ]
  },
  {
   "cell_type": "markdown",
   "id": "rbk1gvf77",
   "metadata": {},
   "source": [
    "## Libraries/packages used \n",
    "\n",
    "The following libraries are used in this notebook:\n",
    "\n",
    "* [<code style=\"color:blue;\">weaviate-client[agents]:</code>](https://weaviate.io/developers/weaviate/client-libraries/python) A powerful vector database with Query Agent functionality for intelligent search\n",
    "* [<code style=\"color:blue;\">datasets:</code>](https://huggingface.co/docs/datasets/) Hugging Face datasets library for loading pre-vectorized data\n",
    "* [<code style=\"color:blue;\">os:</code>](https://docs.python.org/3/library/os.html) Used for environment variable management\n",
    "* [<code style=\"color:blue;\">dotenv:</code>](https://pypi.org/project/python-dotenv/) Loads environment variables from .env files\n",
    "\n",
    "The packages mentioned above are already installed via the requirements.txt in the README. If you are running this in Colab or would like to manually install these packages, uncomment and run the first cell in this notebook:\n",
    "\n",
    "* `pip install -qq weaviate-client python-dotenv weaviate-agents datasets`"
   ]
  },
  {
   "cell_type": "markdown",
   "id": "no4rdlbg53",
   "metadata": {},
   "source": [
    "<a id='TOC'></a>  \n",
    "## Table of contents  \n",
    "\n",
    "1. <a href=\"#Dependencies\">Dependencies</a><br>\n",
    "2. <a href=\"#Connecting\">Connecting to your Weaviate cluster</a><br>\n",
    "3. <a href=\"#Collections\">Setting up collections and loading data</a><br>\n",
    "   3.1 <a href=\"#BrandsCollection\">Create and populate Brands collection</a><br>\n",
    "   3.2 <a href=\"#EcommerceCollection\">Create and populate Ecommerce collection</a><br>\n",
    "   3.3 <a href=\"#BooksCollection\">Create and populate Books collection</a><br>\n",
    "4. <a href=\"#QueryAgent\">Creating the Query Agent</a><br>\n",
    "5. <a href=\"#ExampleQueries\">Example Query Agent interactions</a><br>\n",
    "   5.1 <a href=\"#ClassicRAG\">Classic RAG search</a><br>\n",
    "   5.2 <a href=\"#DatabaseFiltering\">Generated database filtering</a><br>\n",
    "   5.3 <a href=\"#StatisticalQueries\">Statistical and aggregation queries</a><br>\n",
    "   5.4 <a href=\"#MultipleQueries\">Querying multiple databases</a><br>\n",
    "   5.5 <a href=\"#MissingInfo\">Identifying missing information</a><br>"
   ]
  },
  {
   "cell_type": "markdown",
   "id": "pbavifw62zl",
   "metadata": {},
   "source": [
    "<a id='Dependencies'></a>  \n",
    "## 1. Dependencies\n",
    "[Back to table of contents](#TOC)\n",
    "\n",
    "This section initializes the necessary dependencies and sets environment variables for connecting to your Weaviate Cloud instance."
   ]
  },
  {
   "cell_type": "markdown",
   "id": "e92eeb17",
   "metadata": {},
   "source": [
    "**If using Colab, add your keys between the quotation marks in the cell below**"
   ]
  },
  {
   "cell_type": "code",
   "execution_count": null,
   "id": "f2512a02",
   "metadata": {},
   "outputs": [],
   "source": [
    "# un this cell to load your keys in Colab\n",
    "import os\n",
    "\n",
    "# set environment variables  \n",
    "os.environ['WEAVIATE_URL'] = ''  # weaviate instance url  \n",
    "os.environ['WEAVIATE_API_KEY'] = ''  # admin api key  "
   ]
  },
  {
   "cell_type": "markdown",
   "id": "3a33fddb",
   "metadata": {},
   "source": [
    "**If running locally, make sure your keys are in your .env file and run this cell**"
   ]
  },
  {
   "cell_type": "code",
   "execution_count": null,
   "id": "1e72819c",
   "metadata": {},
   "outputs": [],
   "source": [
    "# Run this cell if you are working locally in VS code or Code Space\n",
    "import dotenv\n",
    "\n",
    "dotenv.load_dotenv(override=True)"
   ]
  },
  {
   "cell_type": "markdown",
   "id": "mx9em8opn6",
   "metadata": {},
   "source": [
    "<a id='Connecting'></a>  \n",
    "## 2. Connecting to your Weaviate cluster  \n",
    "[Back to table of contents](#TOC)  \n",
    "\n",
    "To interact with our Weaviate cluster, we'll initialize a client object and verify the connection is successful. This connection will be used throughout the notebook for all data operations and Query Agent interactions."
   ]
  },
  {
   "cell_type": "code",
   "execution_count": null,
   "id": "99961888",
   "metadata": {},
   "outputs": [],
   "source": [
    "import weaviate, os\n",
    "\n",
    "# Connect to Weaviate Cloud\n",
    "client = weaviate.connect_to_weaviate_cloud(\n",
    "    cluster_url=os.getenv(\"WEAVIATE_URL\"),\n",
    "    auth_credentials=weaviate.auth.AuthApiKey(os.getenv(\"WEAVIATE_API_KEY\"))\n",
    ")\n",
    "\n",
    "# check if the connection is successful  \n",
    "client.is_ready()"
   ]
  },
  {
   "cell_type": "markdown",
   "id": "e1c04909",
   "metadata": {},
   "source": [
    "<a id='Collections'></a>  \n",
    "## 3. Setting up collections and loading data  \n",
    "[Back to table of contents](#TOC)  \n",
    "\n",
    "In this section, we'll create three collections (Brands, Ecommerce, and Books) and populate them with pre-vectorized data from the [Weaviate Agents dataset on Hugging Face](https://huggingface.co/datasets/weaviate/agents). Each collection uses the Snowflake Arctic Embed v2.0 model for consistent vector embeddings."
   ]
  },
  {
   "cell_type": "markdown",
   "id": "d9hymn1f0w4",
   "metadata": {},
   "source": [
    "<a id='BrandsCollection'></a>  \n",
    "### 3.1 Create and populate Brands collection  \n",
    "[Back to table of contents](#TOC)  \n",
    "\n",
    "We'll start by creating the Brands collection with properties for clothing brand information, then populate it with brand records from the Weaviate agents dataset."
   ]
  },
  {
   "cell_type": "code",
   "execution_count": null,
   "id": "ad730a69",
   "metadata": {},
   "outputs": [],
   "source": [
    "# import required module for configuration\n",
    "import weaviate.classes.config as wc\n",
    "\n",
    "# delete collection if it exists  \n",
    "if client.collections.exists(\"Brands\"):  \n",
    "    client.collections.delete(\"Brands\")  \n",
    "\n",
    "client.collections.create(\n",
    "    name=\"Brands\", #Collection name\n",
    "\n",
    "    #Set vectorizer configuration for text2vec using Weaviates embedding model\n",
    "    vector_config=wc.Configure.Vectors.text2vec_weaviate(\n",
    "        model=\"Snowflake/snowflake-arctic-embed-l-v2.0\",\n",
    "        source_properties=[\"name\", \"description\", \"child_brands\", \"parent_brand\"],\n",
    "    ),\n",
    "\n",
    ")\n",
    "\n",
    "print(\"Successfully created collection: Brands.\")"
   ]
  },
  {
   "cell_type": "code",
   "execution_count": null,
   "id": "9ed855e9",
   "metadata": {},
   "outputs": [],
   "source": [
    "# Upload brands data using the Weaviate-recommended streaming approach\n",
    "from datasets import load_dataset\n",
    "\n",
    "# Load fresh streaming dataset for upload\n",
    "brands_dataset = load_dataset(\"weaviate/agents\", \"query-agent-brands\", split=\"train\", streaming=True)\n",
    "\n",
    "brands_collection = client.collections.get(\"Brands\")\n",
    "with brands_collection.batch.fixed_size(batch_size=100) as batch:\n",
    "    for item in brands_dataset:\n",
    "        batch.add_object(\n",
    "            properties=item[\"properties\"],\n",
    "            vector=item[\"vector\"]\n",
    "        )\n",
    "\n",
    "print(\"Successfully uploaded brands data using Weaviate streaming method!\")"
   ]
  },
  {
   "cell_type": "markdown",
   "id": "r7yge99se3",
   "metadata": {},
   "source": [
    "<a id='EcommerceCollection'></a>  \n",
    "### 3.2 Create and populate Ecommerce collection  \n",
    "[Back to table of contents](#TOC)  \n",
    "\n",
    "Next, we'll create the Ecommerce collection for fashion items with properties including prices, categories, reviews, and brand associations, then load product records."
   ]
  },
  {
   "cell_type": "code",
   "execution_count": null,
   "id": "87axcgolysh",
   "metadata": {},
   "outputs": [],
   "source": [
    "# import required module for configuration\n",
    "import weaviate.classes.config as wc\n",
    "\n",
    "# delete collection if it exists  \n",
    "if client.collections.exists(\"Ecommerce\"):  \n",
    "    client.collections.delete(\"Ecommerce\")  \n",
    "\n",
    "client.collections.create(\n",
    "    name=\"Ecommerce\", #Collection name\n",
    "\n",
    "    #Set vectorizer configuration for text2vec using Weaviates embedding model\n",
    "    vector_config=wc.Configure.Vectors.text2vec_weaviate(\n",
    "        model=\"Snowflake/snowflake-arctic-embed-l-v2.0\",\n",
    "        source_properties=[\"name\", \"description\", \"collection\", \"category\", \"subcategory\", \"brand\", \"colors\", \"tags\", \"reviews\"],\n",
    "    ),\n",
    ")\n",
    "\n",
    "print(\"Successfully created collection: Ecommerce.\")"
   ]
  },
  {
   "cell_type": "code",
   "execution_count": null,
   "id": "92ee9be8",
   "metadata": {},
   "outputs": [],
   "source": [
    "# Upload ecommerce data using the Weaviate-recommended streaming approach\n",
    "ecommerce_dataset = load_dataset(\"weaviate/agents\", \"query-agent-ecommerce\", split=\"train\", streaming=True)\n",
    "\n",
    "ecommerce_collection = client.collections.get(\"Ecommerce\")\n",
    "with ecommerce_collection.batch.fixed_size(batch_size=100) as batch:\n",
    "    for item in ecommerce_dataset:\n",
    "        batch.add_object(\n",
    "            properties=item[\"properties\"],\n",
    "            vector=item[\"vector\"]\n",
    "        )\n",
    "\n",
    "print(\"Successfully uploaded ecommerce data using Weaviate streaming method!\")"
   ]
  },
  {
   "cell_type": "markdown",
   "id": "ctrsnjbbjmn",
   "metadata": {},
   "source": [
    "<a id='BooksCollection'></a>  \n",
    "### 3.3 Create and populate Books collection  \n",
    "[Back to table of contents](#TOC)  \n",
    "\n",
    "Finally, we'll create the Books collection with properties for titles, authors, descriptions, and genres, then populate it with book records from various genres including mystery, fiction, and non-fiction."
   ]
  },
  {
   "cell_type": "code",
   "execution_count": null,
   "id": "6d41f5c1",
   "metadata": {},
   "outputs": [],
   "source": [
    "# import required module for configuration\n",
    "import weaviate.classes.config as wc\n",
    "\n",
    "# delete collection if it exists  \n",
    "if client.collections.exists(\"Books\"):  \n",
    "    client.collections.delete(\"Books\")  \n",
    "\n",
    "client.collections.create(\n",
    "    name=\"Books\", #Collection name\n",
    "\n",
    "    #Set vectorizer configuration for text2vec using Weaviates embedding model\n",
    "    vector_config=wc.Configure.Vectors.text2vec_weaviate(\n",
    "        model=\"Snowflake/snowflake-arctic-embed-l-v2.0\",\n",
    "        source_properties=[\"title\", \"author\", \"description\", \"genres\"],\n",
    "    ),\n",
    ")\n",
    "\n",
    "print(\"Successfully created collection: Books.\")"
   ]
  },
  {
   "cell_type": "code",
   "execution_count": null,
   "id": "bb47887b",
   "metadata": {},
   "outputs": [],
   "source": [
    "# Upload books data using the Weaviate-recommended streaming approach\n",
    "books_dataset = load_dataset(\"weaviate/agents\", \"query-agent-books\", split=\"train\", streaming=True)\n",
    "\n",
    "books_collection = client.collections.get(\"Books\")\n",
    "with books_collection.batch.fixed_size(batch_size=100) as batch:\n",
    "    for item in books_dataset:\n",
    "        batch.add_object(\n",
    "            properties=item[\"properties\"],\n",
    "            vector=item[\"vector\"]\n",
    "        )\n",
    "\n",
    "print(\"Successfully uploaded books data using Weaviate streaming method!\")"
   ]
  },
  {
   "cell_type": "markdown",
   "id": "um3v6rbnb5",
   "metadata": {},
   "source": [
    "<a id='QueryAgent'></a>  \n",
    "## 4. Creating the Query Agent  \n",
    "[Back to table of contents](#TOC)  \n",
    "\n",
    "Now we'll create our Query Agent instance, which will intelligently route queries across our three collections (Brands, Ecommerce, Books) and automatically determine the optimal search strategy.\n",
    "\n",
    "The output from the Query Agent will include: the original query, the generated answer to the query, the searches performed, the collections searched, filters applied, aggregates completed, source objects pulled from the database that comntributed to the generated answer and any mising information if the generated answer is incomplete."
   ]
  },
  {
   "cell_type": "code",
   "execution_count": null,
   "id": "8b408547",
   "metadata": {},
   "outputs": [],
   "source": [
    "from weaviate_agents.query import QueryAgent\n",
    "\n",
    "# Instantiate a new agent object, and specify the collections to query\n",
    "qa = QueryAgent(\n",
    "    client=client, \n",
    "    collections=[\"Brands\", \"Ecommerce\", \"Books\"],  \n",
    ")\n"
   ]
  },
  {
   "cell_type": "markdown",
   "id": "82be650e",
   "metadata": {},
   "source": [
    "<a id='ExampleQueries'></a>  \n",
    "## 5. Example Query Agent interactions  \n",
    "[Back to table of contents](#TOC)  \n",
    "\n",
    "Let's explore the Query Agent's capabilities through various types of queries. Notice how the agent automatically determines which collections to search, applies filters, and performs aggregations based on the natural language input."
   ]
  },
  {
   "cell_type": "markdown",
   "id": "lo0ul1ecjp",
   "metadata": {},
   "source": [
    "<a id='BookQueries'></a>  \n",
    "### 5.1 Classic RAG search  \n",
    "[Back to table of contents](#TOC)  \n",
    "\n",
    "This Query Agent is able to respond as a classic RAG system. The Query Agent will run an initial generative step that will optimize the original query for a vector database.\n",
    "\n"
   ]
  },
  {
   "cell_type": "code",
   "execution_count": null,
   "id": "c02e224f",
   "metadata": {},
   "outputs": [],
   "source": [
    "# Perform a query\n",
    "response = qa.run(\n",
    "    \"Are there any books about King Arthur or Knights that I should read?\"\n",
    ")\n",
    "\n",
    "# Print the response \n",
    "# The output will include: the original query, the generated answer to the query, the seraches performed,\n",
    "# the collections searched, filters applied, aggregates completed and source objects ulled from the database.\n",
    "response.display()"
   ]
  },
  {
   "cell_type": "markdown",
   "id": "eff75761",
   "metadata": {},
   "source": [
    "<a id='BookQueries'></a>  \n",
    "### 5.2 Generated database filtering   \n",
    "[Back to table of contents](#TOC)  \n",
    "\n",
    "This Query Agent is able determine appropriate filters and apply filtering for database objects returned by the vector database query. This allows for dynamic filtering in RAG systems, a step that is normally a manual process.\n"
   ]
  },
  {
   "cell_type": "code",
   "execution_count": null,
   "id": "c31e3217",
   "metadata": {},
   "outputs": [],
   "source": [
    "# Perform a query\n",
    "response = qa.run(\n",
    "    \"I am in the mood for a good mystery book, what should I read?\"\n",
    ")\n",
    "\n",
    "# Print the response\n",
    "response.display()"
   ]
  },
  {
   "cell_type": "markdown",
   "id": "6e443761",
   "metadata": {},
   "source": [
    "<a id='StatisticalQueries'></a>  \n",
    "### 5.3 Statistical and aggregation queries  \n",
    "[Back to table of contents](#TOC)  \n",
    "\n",
    "The Query Agent automatically recognizes when aggregation is needed and performs complex statistical operations like counting and grouping data."
   ]
  },
  {
   "cell_type": "code",
   "execution_count": null,
   "id": "f9fec420",
   "metadata": {},
   "outputs": [],
   "source": [
    "# Perform a query\n",
    "response = qa.run(\n",
    "    \"Which author has the most books in my collection?\"\n",
    ")\n",
    "\n",
    "# Print the response\n",
    "response.display()"
   ]
  },
  {
   "cell_type": "markdown",
   "id": "69c1ed1e",
   "metadata": {},
   "source": [
    "<a id='MultipleQueries'></a>  \n",
    "### 5.4 Querying multiple databases  \n",
    "[Back to table of contents](#TOC)  \n",
    "\n",
    "The Query agent looks at collection descriptions and property data to determine which collection or collections to query for proper context for the query response generation."
   ]
  },
  {
   "cell_type": "code",
   "execution_count": null,
   "id": "87d626a1",
   "metadata": {},
   "outputs": [],
   "source": [
    "# Perform a query\n",
    "response = qa.run(\n",
    "    \"\"\"I am looking to buy a cool new jean jacket or light coat at or below $150. \n",
    "    I want a trendy but also timeless look but can also hold up and last me a long time. \n",
    "    If possible, I want to purchase something from a new company that might get me a \n",
    "    sponsorship for my social media account.\"\"\"\n",
    ")\n",
    "# Print the response\n",
    "response.display()"
   ]
  },
  {
   "cell_type": "markdown",
   "id": "bfd6f685",
   "metadata": {},
   "source": [
    "<a id='MissingInfo'></a>  \n",
    "### 5.5 Identifying missing information  \n",
    "[Back to table of contents](#TOC)  \n",
    "\n",
    "If a partial response is generated for a query the Query Agent will report the missing information not present in the database."
   ]
  },
  {
   "cell_type": "code",
   "execution_count": null,
   "id": "7571669c",
   "metadata": {},
   "outputs": [],
   "source": [
    "# Perform a query\n",
    "response = qa.run(\n",
    "    \"\"\"I want to buy a new leather jacket but I am vegan and only buy from socially responsible brands.\"\"\"\n",
    ")\n",
    "# Print the response\n",
    "response.display()"
   ]
  },
  {
   "cell_type": "code",
   "execution_count": null,
   "id": "e97cde3a",
   "metadata": {},
   "outputs": [],
   "source": [
    "# close the Weaviate client to free up resources\n",
    "client.close()"
   ]
  }
 ],
 "metadata": {
  "kernelspec": {
   "display_name": ".venv",
   "language": "python",
   "name": "python3"
  },
  "language_info": {
   "codemirror_mode": {
    "name": "ipython",
    "version": 3
   },
   "file_extension": ".py",
   "mimetype": "text/x-python",
   "name": "python",
   "nbconvert_exporter": "python",
   "pygments_lexer": "ipython3",
   "version": "3.12.9"
  }
 },
 "nbformat": 4,
 "nbformat_minor": 5
}
